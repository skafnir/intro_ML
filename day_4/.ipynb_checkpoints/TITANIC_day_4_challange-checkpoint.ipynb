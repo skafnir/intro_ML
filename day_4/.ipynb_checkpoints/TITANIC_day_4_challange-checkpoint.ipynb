{
 "cells": [
  {
   "cell_type": "code",
   "execution_count": 2,
   "metadata": {},
   "outputs": [],
   "source": [
    "import pandas as pd                                   # allows getting data from tables\n",
    "\n",
    "from skylearn.tree import DecisionTreeClassifier      # allows usage of Decision Tree\n",
    "from skylearn.ensemble import RandomForestClassifier  # allows usage of trees in trees\n",
    "from skylearn.model_selection import train_test_split # splits our data in parts\n",
    "from skylearn.metrics import accuracy_score           # evaluates accuracy score\n"
   ]
  },
  {
   "cell_type": "code",
   "execution_count": null,
   "metadata": {},
   "outputs": [],
   "source": []
  }
 ],
 "metadata": {
  "kernelspec": {
   "display_name": "Python 3",
   "language": "python",
   "name": "python3"
  },
  "language_info": {
   "codemirror_mode": {
    "name": "ipython",
    "version": 3
   },
   "file_extension": ".py",
   "mimetype": "text/x-python",
   "name": "python",
   "nbconvert_exporter": "python",
   "pygments_lexer": "ipython3",
   "version": "3.7.1"
  }
 },
 "nbformat": 4,
 "nbformat_minor": 2
}
